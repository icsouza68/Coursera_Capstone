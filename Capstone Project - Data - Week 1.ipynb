{
 "cells": [
  {
   "cell_type": "markdown",
   "metadata": {},
   "source": [
    "![alt text](https://raw.githubusercontent.com/icsouza68/Coursera_Capstone/master/header.jpg \"Logo Title Text 1\")"
   ]
  },
  {
   "cell_type": "markdown",
   "metadata": {},
   "source": [
    "# Capstone Project Week 1"
   ]
  },
  {
   "cell_type": "markdown",
   "metadata": {},
   "source": [
    "## Data"
   ]
  },
  {
   "cell_type": "markdown",
   "metadata": {},
   "source": [
    "### Required Data\n",
    "For the execution of this project, we will need:\n",
    "- Data on the New York boroughs and its neighborhoods, which have already been made available throughout the course;\n",
    "- Foursquare venues category list, which can be obtained by simply calling an endpoint;\n",
    "- List of places mapped by Foursquare in each New York City neighborhood, obtained through Foursquare API calls;\n",
    "- List of priorities within Foursquare categories, informed by the user and which will be used to generate a score for each neighborhood."
   ]
  },
  {
   "cell_type": "markdown",
   "metadata": {},
   "source": [
    "### How data will be used\n",
    "\n",
    "- The user will inform the categories he or she thinks are important in a neighborhood, indicating their priority:\n",
    "\n",
    " 1. very important;\n",
    " 2. Important;\n",
    " 3. Not so important\n",
    "\n",
    "\n",
    "- He or she can choose as many categories as he or she likes, indicating their priorities\n",
    "- The system will obtain the list of boroughs of the city, and for each borough its neighborhoods;\n",
    "- For each neighborhood, we will get the list of places within the categories that the user chose\n",
    "- For each venue, the system will calculate its weight based on the importance given by the user\n",
    "- After thorough analysis, the system will group by neighborhood, adding the weights of their venues\n",
    "- With this, it will be possible to create clusters based on the scores of each neighborhood.\n",
    "- A city map will be plotted showing the neighborhoods with colors indicating the scores.\n",
    "- By color, the user can check the neighborhoods that best suit what he/she thinks is relevant and thus choose the one he/she likes best. "
   ]
  },
  {
   "cell_type": "code",
   "execution_count": null,
   "metadata": {},
   "outputs": [],
   "source": []
  }
 ],
 "metadata": {
  "kernelspec": {
   "display_name": "Python 3",
   "language": "python",
   "name": "python3"
  },
  "language_info": {
   "codemirror_mode": {
    "name": "ipython",
    "version": 3
   },
   "file_extension": ".py",
   "mimetype": "text/x-python",
   "name": "python",
   "nbconvert_exporter": "python",
   "pygments_lexer": "ipython3",
   "version": "3.7.3"
  }
 },
 "nbformat": 4,
 "nbformat_minor": 2
}
