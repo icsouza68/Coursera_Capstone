{
 "cells": [
  {
   "cell_type": "markdown",
   "metadata": {},
   "source": [
    "![alt text](https://raw.githubusercontent.com/icsouza68/Coursera_Capstone/master/header.jpg \"Logo Title Text 1\")"
   ]
  },
  {
   "cell_type": "markdown",
   "metadata": {},
   "source": [
    "# Capstone Project Week 1"
   ]
  },
  {
   "cell_type": "markdown",
   "metadata": {},
   "source": [
    "## Introduction"
   ]
  },
  {
   "cell_type": "markdown",
   "metadata": {},
   "source": [
    "### Problem\n",
    "Very often, people need to move from one place to another. A new job, formation of a family, college admission are some of the most common reasons. A change can also take place in virtue of external problems: armed conflict, poverty, natural disasters, political persecution, etc. But, when arriving at the new location, a question that may eventually arise is: what is the best place to live in this city?\n",
    "\n",
    "Each individual has unique preferences and needs, which may vary over time, but it's reasonable and legitimate to think that everyone would like to live in a neighborhood that best suits their current expectations. A married person with children may prefer to live closer to where there are more schools and parks, for example. A young single person may prefer somewhere better served by public transport. A couple with no children may prefer to live near restaurants. If the couple is Italian, probably their preferred restaurants should be Italians, not Indians, for example. The desired combinations of amenities are virtually endless.\n",
    "\n",
    "Living close to places that are most compatible with current needs and preferences means maximizing personal and familiar happiness. From a philosophical point of view, the pursuit of happiness has always been the subject of study by great philosophers, from Aristoteles, through Kant to Stuart Mill, just to name a few. \n",
    "\n",
    "Thus, in addition to the philosophical aspect, and now dealing with a more practical and rational aspect, a good change of address can mean more or less personal and / or family problems. Non-adaptation to a location due to the lack of essential structures may be related to lower work productivity (or even unemployment), emotional instability, disagreements with spouse / children, among other problems. Conversely, good adaptation means greater personal and familiar fulfillment.\n",
    "\n",
    "It is true, however, that happiness depends not only on a good neighborhood, but all these aspects that affect the happiness escape the scope of this work.\n",
    "\n",
    "That said, the question to be answered by this project is: **Considering a person's needs, what are the New York City neighborhoods most compatible with them?**\n"
   ]
  },
  {
   "cell_type": "markdown",
   "metadata": {},
   "source": [
    "### People who might be interested in this kind of information\n",
    "The answer to this question may be of interest not only of those who seek it for a place for themselves or their families, but also of public offices related to the establishment of immigrants or refugees, as well as private businesses such as a real estate offices, or companies seeking professionals abroad, for example. Any entity that is responsible for advising someone to obtain a residence in New York City may be interested in this project.\n"
   ]
  },
  {
   "cell_type": "markdown",
   "metadata": {},
   "source": [
    "## Data"
   ]
  },
  {
   "cell_type": "markdown",
   "metadata": {},
   "source": [
    "### Required Data\n",
    "For the execution of this project, we will need:\n",
    "- Data on the New York borhoods and its neighborhoods, which have already been made available throughout the course;\n",
    "- Foursquare venues category list, which can be obtained by simply calling an endpoint;\n",
    "- List of places mapped by Foursquare in each New York City neighborhood, obtained through Foursquare API calls;\n",
    "- List of priorities within Foursquare categories, informed by the user and which will be used to generate a score for each neighborhood."
   ]
  },
  {
   "cell_type": "markdown",
   "metadata": {},
   "source": [
    "### How data will be used\n",
    "\n",
    "- The user will inform the categories he or she thinks are important in a neighborhood, indicating their priority:\n",
    "\n",
    " 1. very important;\n",
    " 2. Important;\n",
    " 3. Not so important\n",
    "\n",
    "\n",
    "- He or she can choose as many categories as he or she likes, indicating their priorities\n",
    "\n",
    "- The system will obtain the list of borhoods of the city, and for each borhood its neighborhoods;\n",
    "\n",
    "- For each neighborhood, we will get the list of places within the categories that the user chose\n",
    "\n",
    "- For each venue, it will calculate its weight based on the importance given by the user\n",
    "\n",
    "- After going everywhere, the system will group by neighborhood, adding the weights of their venues\n",
    "\n",
    "- With this, it will be possible to create clusters based on the scores of each neighborhood.\n",
    "\n",
    "- A city map will be plotted showing the neighborhoods with colors indicating the scores.\n",
    "\n",
    "- By color, the user can check the neighborhoods that best suit what they think is relevant and thus choose the one they like best."
   ]
  }
 ],
 "metadata": {
  "kernelspec": {
   "display_name": "Python 3",
   "language": "python",
   "name": "python3"
  },
  "language_info": {
   "codemirror_mode": {
    "name": "ipython",
    "version": 3
   },
   "file_extension": ".py",
   "mimetype": "text/x-python",
   "name": "python",
   "nbconvert_exporter": "python",
   "pygments_lexer": "ipython3",
   "version": "3.7.3"
  }
 },
 "nbformat": 4,
 "nbformat_minor": 2
}
