{
 "cells": [
  {
   "cell_type": "markdown",
   "metadata": {},
   "source": [
    "![alt text](https://raw.githubusercontent.com/icsouza68/Coursera_Capstone/master/header.jpg \"Logo Title Text 1\")"
   ]
  },
  {
   "cell_type": "markdown",
   "metadata": {},
   "source": [
    "# Capstone Project Week 1"
   ]
  },
  {
   "cell_type": "markdown",
   "metadata": {},
   "source": [
    "## Data"
   ]
  },
  {
   "cell_type": "markdown",
   "metadata": {},
   "source": [
    "### Required Data\n",
    "For the execution of this project, we will need:\n",
    "- Data on the New York boroughs and its neighborhoods, which have already been made available throughout the course;\n",
    "- Foursquare venues category list, which can be obtained by simply calling an endpoint;\n",
    "- List of places mapped by Foursquare in each New York City neighborhood, obtained through Foursquare API calls;\n",
    "- List of priorities within Foursquare categories, informed by the user and which will be used to generate a score for each neighborhood."
   ]
  },
  {
   "cell_type": "markdown",
   "metadata": {},
   "source": [
    "### How data will be used\n",
    "\n",
    "- The user will inform the categories he or she thinks are important in a neighborhood, indicating their priority:\n",
    "\n",
    " 3. very important;\n",
    " 2. Important;\n",
    " 1. Not so important\n",
    " \n",
    "\n",
    "- He or she can choose as many categories as he or she likes, indicating their priorities\n",
    "- The system will obtain the list of boroughs of the city, and for each borough its neighborhoods;\n",
    "- For each neighborhood, we will get the list of places within the categories that the user chose\n",
    "- For each venue, the system will calculate its weight based on the importance given by the user\n",
    "- After thorough analysis, the system will group by neighborhood, adding the weights of their venues\n",
    "- With this, it will be possible to create clusters based on the scores of each neighborhood.\n",
    "- A city map will be plotted showing the neighborhoods with colors indicating the scores.\n",
    "- By color, the user can check the neighborhoods that best suit what he/she thinks is relevant and thus choose the one he/she likes best. "
   ]
  },
  {
   "cell_type": "markdown",
   "metadata": {},
   "source": [
    "### Important notice about Foursquare venue categories\n",
    "\n",
    "- Each venue in Foursquare has at least a main category and a subcategory. For example, \"Metro Station\" category is a subcategory of \"Travel & Transport\" main category;\n",
    "- Foursquare advices that the list of categories may slightly change over time;\n",
    "- However, there are some subcategories that are subdivided into narrower categories. \"Food\" main category has a subcategory \"Italian Restaurant\" which is subdivided into more than 20 different cousines (\"Calabria Restaurant\", \"Venetto Restaurant\", \"Puglia Restaurant\" and so on);\n",
    "- In an extreme case, categories can reach up to four levels: \"Outdoors & Recreation\" -> \"Athletics & Sports\" -> \"Gym / Fitness Center\" -> (\"Boxing Gym\", \"Climbing Gym\", \"Cycle Studio\", \"Gym Pool\", etc.);\n",
    "- When we use Foursquare to search for venues from a certain location, following some category criteria, it might bring categories that were not specified, but having some relation to one of the selected. For instance, if you ask Foursquare to bring all \"Italian Restaurants\", it will bring all of them and includes all \"Pizza Places\" as well, but \"Pizza Place\" subcategory does not belongs to \"Italian Restaurant\" category. It's an independent main category, but somehow it relates to \"Italian Restaurant\";\n",
    "- In this project, we are considering that user will be able to select only subcategories (level = 2) from categories (level = 1), but not subcategories (level = 3) from subcategories (level = 2). However, the system will handle the entire category chain brought by Foursquare by assigning each subcategory (second, third and fourth levels) to its second level subcategory."
   ]
  },
  {
   "cell_type": "markdown",
   "metadata": {},
   "source": [
    "### Example of how data will be used\n",
    "\n",
    "- The first thing the user has to do is to select which boroughs will be part of the search\n",
    "- The second step is to select all subcategories he/she thinks is relevant and set a \"weight\" for each one of them:\n",
    "\n",
    " 3. very important;\n",
    " 2. Important;\n",
    " 1. Not so important\n",
    " \n",
    "\n",
    "- Now, the system will get all the categories from Fourquare using an endpoint (https://api.foursquare.com/v2/venues/categories), that is an authenticated basic call to Foursquare API, and process them to build a data structure that allows us to manipulate any subcategory througout the execution of the system;\n",
    "- Then we will create a dataframe containing all categories that the user has previously selected in the columns, and one row for each neighborhood within the selected boroughs;\n",
    "- We will group the dataframe by neighborhood and calculate how many venues of each category exist in each, then we will normalize the data and compute the final rating for each category\n",
    "- We will create specific columns for clustering and rating as well. \n",
    "- The system will plot two Folium maps:\n",
    "\n",
    " 1. a map with the clusters\n",
    " 2. a map with the final rating of each neighborhood, grouped by a range of the ratings\n",
    " \n",
    "- The rating of each neighborhood is a measure of how close to the user's ideal place to live, the higher, the better."
   ]
  }
 ],
 "metadata": {
  "kernelspec": {
   "display_name": "Python 3",
   "language": "python",
   "name": "python3"
  },
  "language_info": {
   "codemirror_mode": {
    "name": "ipython",
    "version": 3
   },
   "file_extension": ".py",
   "mimetype": "text/x-python",
   "name": "python",
   "nbconvert_exporter": "python",
   "pygments_lexer": "ipython3",
   "version": "3.7.3"
  }
 },
 "nbformat": 4,
 "nbformat_minor": 2
}
