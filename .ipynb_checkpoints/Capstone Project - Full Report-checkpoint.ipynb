{
 "cells": [
  {
   "cell_type": "markdown",
   "metadata": {},
   "source": [
    "![alt text](https://raw.githubusercontent.com/icsouza68/Coursera_Capstone/master/header.jpg \"Logo Title Text 1\")"
   ]
  },
  {
   "cell_type": "markdown",
   "metadata": {
    "collapsed": true
   },
   "source": [
    "# Capstone Project - The Battle of the Neighborhoods (Week 2)\n",
    "### Applied Data Science Capstone by IBM/Coursera"
   ]
  },
  {
   "cell_type": "markdown",
   "metadata": {},
   "source": [
    "## Table of contents\n",
    "* [Introduction: Business Problem](#introduction)\n",
    "* [Data](#data)\n",
    "* [Methodology](#methodology)\n",
    "* [Analysis](#analysis)\n",
    "* [Results and Discussion](#results)\n",
    "* [Conclusion](#conclusion)"
   ]
  },
  {
   "cell_type": "markdown",
   "metadata": {},
   "source": [
    "\n",
    "\n",
    "## Introduction: Business Problem <a name=\"introduction\"></a>"
   ]
  },
  {
   "cell_type": "markdown",
   "metadata": {},
   "source": [
    "Very often, people need to move from one place to another. A new job, raising a family and college admission, for example, are some of the most common reasons for moving around. A change can also take place due to external problems: armed conflicts, poverty, natural disasters, political persecution, etc. But, when arriving at the new location, a question that may eventually arise is: where is the best place to live in this city?\n",
    "\n",
    "Each individual has unique preferences and needs, which may vary over time, but it's reasonable and legitimate to think that everyone would like to live in a neighborhood that best suits their current expectations. A married person with children may prefer to live closer to where there are more schools and parks, for example. A young single person may prefer somewhere better served by public transport. A couple with no children may prefer to live near restaurants. If the couple is Italian, probably their favourite restaurants would be Italian, not Indian, for instance. The desired combinations of amenities are virtually endless.\n",
    "\n",
    "Living close to places that are most compatible with current needs and preferences means maximizing personal and familiar happiness. From a philosophical point of view, the pursuit of happiness has always been the subject of study by great philosophers, from Aristoteles, through Kant to Stuart Mill, just to name a few. \n",
    "\n",
    "Thus, in addition to the philosophical aspect, and now dealing with a more practical and rational approach, moving from one place to another can result in more or less personal and / or family problems. Lower work productivity (or even unemployment), emotional instability, disagreements with spouse / children, among other problems, can be related to the non-adaptation to a location due to the lack of essential structures needed by the individuals or families. On the other hand,  good adaptation means greater personal and familiar fulfillment.\n",
    "\n",
    "It is true, however, that happiness depends on many other aspects that are not related to living in a good neighborhood, but all these aspects are beyond the scope of this work.\n",
    "Having said that, the question to be answered by this project is: **Considering a person's needs, which New York City neighborhoods would be most compatible with him/her?**"
   ]
  },
  {
   "cell_type": "markdown",
   "metadata": {},
   "source": [
    "### People who might be interested in this kind of information\n",
    "The answer to this question may be of interest not only to those who seek a place for themselves or their families to live in, but also to public offices working with the establishment of immigrants or refugees, as well as to private businesses such as a real estate offices, or companies seeking professionals abroad, for example. Any entity that is responsible for advising someone to obtain a residence in New York City may be interested in this project.\n"
   ]
  },
  {
   "cell_type": "markdown",
   "metadata": {},
   "source": [
    "## Data <a name=\"data\"></a>"
   ]
  },
  {
   "cell_type": "markdown",
   "metadata": {},
   "source": [
    "### Required Data\n",
    "For the execution of this project, we will need:\n",
    "- Data on the New York boroughs and its neighborhoods, which have already been made available throughout the course;\n",
    "- **Foursquare** venues category list, which can be obtained by simply calling an endpoint (https://api.foursquare.com/v2/venues/categories);\n",
    "- List of places mapped by **Foursquare** in each New York City neighborhood, obtained through **Foursquare API** calls;\n",
    "- List of priorities within **Foursquare** categories, informed by the user and which will be used to generate a score for each neighborhood."
   ]
  },
  {
   "cell_type": "markdown",
   "metadata": {},
   "source": [
    "### How data will be used\n",
    "\n",
    "- The user will inform the categories he or she thinks are important in a neighborhood, indicating their priority:\n",
    "\n",
    "   3: very important;\n",
    "   2: Important; \n",
    "   1: Not so important \n",
    " \n",
    "\n",
    "- He or she can choose as many categories as he or she likes, indicating their priorities\n",
    "- The system will obtain the list of boroughs of the city, and for each borough its neighborhoods;\n",
    "- For each neighborhood, we will get the list of places within the categories that the user chose\n",
    "- For each venue, the system will calculate its weight based on the importance given by the user\n",
    "- After thorough analysis, the system will group by neighborhood, adding the weights of their venues\n",
    "- With this, it will be possible to create clusters based on the scores of each neighborhood.\n",
    "- A city map will be plotted showing the neighborhoods with colors indicating the scores.\n",
    "- By color, the user can check the neighborhoods that best suit what he/she thinks is relevant and thus choose the one he/she likes best. "
   ]
  },
  {
   "cell_type": "markdown",
   "metadata": {},
   "source": [
    "### Important notice about Foursquare venue categories\n",
    "\n",
    "- Each venue in Foursquare has at least a main category and a subcategory. For example, \"Metro Station\" category is a subcategory of \"Travel & Transport\" main category;\n",
    "- Foursquare advices that the list of categories may slightly change over time;\n",
    "- However, there are some subcategories that are subdivided into narrower categories. \"Food\" main category has a subcategory \"Italian Restaurant\" which is subdivided into more than 20 different cousines (\"Calabria Restaurant\", \"Venetto Restaurant\", \"Puglia Restaurant\" and so on);\n",
    "- In an extreme case, categories can reach up to four levels: \"Outdoors & Recreation\" -> \"Athletics & Sports\" -> \"Gym / Fitness Center\" -> (\"Boxing Gym\", \"Climbing Gym\", \"Cycle Studio\", \"Gym Pool\", etc.);\n",
    "- When we use Foursquare to search for venues from a certain location, following some category criteria, it might bring categories that were not specified, but having some relation to one of the selected. For instance, if you ask Foursquare to bring all \"Italian Restaurants\", it will bring all of them and includes all \"Pizza Places\" as well, but \"Pizza Place\" subcategory does not belongs to \"Italian Restaurant\" category. It's an independent main category, but somehow it relates to \"Italian Restaurant\";\n",
    "- In this project, we are considering that user will be able to select only subcategories (level = 2) from categories (level = 1), but not subcategories (level = 3) from subcategories (level = 2). However, the system will handle the entire category chain brought by Foursquare by assigning each subcategory (second, third and fourth levels) to its second level subcategory."
   ]
  },
  {
   "cell_type": "markdown",
   "metadata": {},
   "source": [
    "### Example of how data will be used\n",
    "\n",
    "- The first thing the user has to do is to select which boroughs will be part of the search\n",
    "- The second step is to select all subcategories he/she thinks is relevant and set a \"weight\" for each one of them:\n",
    "\n",
    " 3. very important;\n",
    " 2. Important;\n",
    " 1. Not so important\n",
    " \n",
    "\n",
    "- Now, the system will get all the categories from Fourquare using an endpoint (https://api.foursquare.com/v2/venues/categories), that is an authenticated basic call to Foursquare API, and process them to build a data structure that allows us to manipulate any subcategory througout the execution of the system;\n",
    "- Then we will create a dataframe containing all categories that the user has previously selected in the columns, and one row for each neighborhood within the selected boroughs;\n",
    "- We will group the dataframe by neighborhood and calculate how many venues of each category exist in each, then we will normalize the data and compute the final rating for each category\n",
    "- We will create specific columns for clustering and rating as well. \n",
    "- The system will plot two Folium maps:\n",
    "\n",
    " 1. a map with the clusters\n",
    " 2. a map with the final rating of each neighborhood, grouped by a range of the ratings\n",
    " \n",
    "- The rating of each neighborhood is a measure of how close to the user's ideal place to live, the higher, the better."
   ]
  },
  {
   "cell_type": "markdown",
   "metadata": {},
   "source": [
    "Based on definition of our problem, factors that will influence our decission are:\n",
    "* number of existing restaurants in the neighborhood (any type of restaurant)\n",
    "* number of and distance to Italian restaurants in the neighborhood, if any\n",
    "* distance of neighborhood from city center\n",
    "\n",
    "We decided to use regularly spaced grid of locations, centered around city center, to define our neighborhoods.\n",
    "\n",
    "Following data sources will be needed to extract/generate the required information:\n",
    "* centers of candidate areas will be generated algorithmically and approximate addresses of centers of those areas will be obtained using **Google Maps API reverse geocoding**\n",
    "* number of restaurants and their type and location in every neighborhood will be obtained using **Foursquare API**\n",
    "* coordinate of Berlin center will be obtained using **Google Maps API geocoding** of well known Berlin location (Alexanderplatz)"
   ]
  },
  {
   "cell_type": "markdown",
   "metadata": {},
   "source": [
    "### Neighborhood Candidates\n",
    "\n",
    "Let's create latitude & longitude coordinates for centroids of our candidate neighborhoods. We will create a grid of cells covering our area of interest which is aprox. 12x12 killometers centered around Berlin city center.\n",
    "\n",
    "Let's first find the latitude & longitude of Berlin city center, using specific, well known address and Google Maps geocoding API."
   ]
  },
  {
   "cell_type": "markdown",
   "metadata": {},
   "source": [
    "In this project we will try to find an optimal location for a restaurant. Specifically, this report will be targeted to stakeholders interested in opening an **Italian restaurant** in **Berlin**, Germany.\n",
    "\n",
    "Since there are lots of restaurants in Berlin we will try to detect **locations that are not already crowded with restaurants**. We are also particularly interested in **areas with no Italian restaurants in vicinity**. We would also prefer locations **as close to city center as possible**, assuming that first two conditions are met.\n",
    "\n",
    "We will use our data science powers to generate a few most promissing neighborhoods based on this criteria. Advantages of each area will then be clearly expressed so that best possible final location can be chosen by stakeholders."
   ]
  }
 ],
 "metadata": {
  "kernelspec": {
   "display_name": "Python 3",
   "language": "python",
   "name": "python3"
  },
  "language_info": {
   "codemirror_mode": {
    "name": "ipython",
    "version": 3
   },
   "file_extension": ".py",
   "mimetype": "text/x-python",
   "name": "python",
   "nbconvert_exporter": "python",
   "pygments_lexer": "ipython3",
   "version": "3.7.3"
  }
 },
 "nbformat": 4,
 "nbformat_minor": 2
}
